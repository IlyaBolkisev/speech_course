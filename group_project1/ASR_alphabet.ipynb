{
  "metadata": {
    "kernelspec": {
      "language": "python",
      "display_name": "Python 3",
      "name": "python3"
    },
    "language_info": {
      "name": "python",
      "version": "3.11.11",
      "mimetype": "text/x-python",
      "codemirror_mode": {
        "name": "ipython",
        "version": 3
      },
      "pygments_lexer": "ipython3",
      "nbconvert_exporter": "python",
      "file_extension": ".py"
    },
    "kaggle": {
      "accelerator": "gpu",
      "dataSources": [
        {
          "sourceId": 99036,
          "databundleVersionId": 11819802,
          "sourceType": "competition"
        }
      ],
      "dockerImageVersionId": 31012,
      "isInternetEnabled": true,
      "language": "python",
      "sourceType": "notebook",
      "isGpuEnabled": true
    },
    "colab": {
      "provenance": []
    }
  },
  "nbformat_minor": 0,
  "nbformat": 4,
  "cells": [
    {
      "cell_type": "code",
      "source": [
        "BRANCH = 'main'\n",
        "!python -m pip install --quiet git+https://github.com/NVIDIA/NeMo-text-processing.git@$BRANCH#egg=nemo_text_processing"
      ],
      "metadata": {
        "_uuid": "d3857f65-3d57-48d5-912c-b338752922be",
        "_cell_guid": "c4211d1e-86a5-42b7-9d1e-502212db628f",
        "trusted": true,
        "execution": {
          "iopub.status.busy": "2025-04-20T10:41:57.535574Z",
          "iopub.execute_input": "2025-04-20T10:41:57.535822Z",
          "iopub.status.idle": "2025-04-20T10:42:36.092347Z",
          "shell.execute_reply.started": "2025-04-20T10:41:57.535800Z",
          "shell.execute_reply": "2025-04-20T10:42:36.091674Z"
        },
        "jupyter": {
          "outputs_hidden": false
        },
        "id": "oMvcohpDibof",
        "outputId": "8babcb6d-fe36-4512-bdde-0247fbb3b1d8"
      },
      "outputs": [
        {
          "name": "stdout",
          "text": "  Preparing metadata (setup.py) ... \u001b[?25l\u001b[?25hdone\n  Installing build dependencies ... \u001b[?25l\u001b[?25hdone\n  Getting requirements to build wheel ... \u001b[?25l\u001b[?25hdone\n  Preparing metadata (pyproject.toml) ... \u001b[?25l\u001b[?25hdone\n  Preparing metadata (setup.py) ... \u001b[?25l\u001b[?25hdone\n\u001b[2K   \u001b[90m━━━━━━━━━━━━━━━━━━━━━━━━━━━━━━━━━━━━━━━━\u001b[0m \u001b[32m154.8/154.8 MB\u001b[0m \u001b[31m11.1 MB/s\u001b[0m eta \u001b[36m0:00:00\u001b[0m:00:01\u001b[0m00:01\u001b[0m\n\u001b[2K   \u001b[90m━━━━━━━━━━━━━━━━━━━━━━━━━━━━━━━━━━━━━━━━\u001b[0m \u001b[32m897.5/897.5 kB\u001b[0m \u001b[31m42.7 MB/s\u001b[0m eta \u001b[36m0:00:00\u001b[0m\n\u001b[?25h  Building wheel for nemo_text_processing (setup.py) ... \u001b[?25l\u001b[?25hdone\n  Building wheel for cdifflib (pyproject.toml) ... \u001b[?25l\u001b[?25hdone\n  Building wheel for wget (setup.py) ... \u001b[?25l\u001b[?25hdone\n",
          "output_type": "stream"
        }
      ],
      "execution_count": null
    },
    {
      "cell_type": "code",
      "source": [
        "!pip install --quiet RapidFuzz"
      ],
      "metadata": {
        "id": "oKnBv6T4irT5"
      },
      "execution_count": null,
      "outputs": []
    },
    {
      "cell_type": "code",
      "source": [
        "import os\n",
        "import math\n",
        "import random\n",
        "from pathlib import Path\n",
        "from itertools import groupby\n",
        "\n",
        "import pandas as pd\n",
        "from tqdm import tqdm\n",
        "from rapidfuzz import process\n",
        "from nemo_text_processing.inverse_text_normalization.inverse_normalize import InverseNormalizer\n",
        "\n",
        "import torch\n",
        "from torch import nn, optim\n",
        "from torch.nn.utils.rnn import pad_sequence\n",
        "from torch.utils.data import Dataset, DataLoader\n",
        "import torchaudio\n",
        "from torchaudio.transforms import FrequencyMasking, TimeMasking, Vol\n",
        "from torchmetrics.text import CharErrorRate"
      ],
      "metadata": {
        "_uuid": "598a209b-1c00-414c-a25b-b654b833ca11",
        "_cell_guid": "d8537a1b-e26d-4cc0-8bb9-1e7b0884fcf6",
        "trusted": true,
        "jupyter": {
          "outputs_hidden": false
        },
        "execution": {
          "iopub.status.busy": "2025-04-20T10:42:36.093278Z",
          "iopub.execute_input": "2025-04-20T10:42:36.093551Z",
          "iopub.status.idle": "2025-04-20T10:42:48.910301Z",
          "shell.execute_reply.started": "2025-04-20T10:42:36.093526Z",
          "shell.execute_reply": "2025-04-20T10:42:48.909770Z"
        },
        "id": "ruqqyZo9ibog"
      },
      "outputs": [],
      "execution_count": null
    },
    {
      "cell_type": "code",
      "source": [
        "inv_normalizer_ru = InverseNormalizer(lang=\"ru\")\n",
        "\n",
        "RU_UNITS_M = ['ноль','один','два','три','четыре','пять','шесть','семь','восемь','девять']\n",
        "RU_UNITS_F = ['ноль','одна','две','три','четыре','пять','шесть','семь','восемь','девять']\n",
        "RU_TEENS   = ['десять','одиннадцать','двенадцать','тринадцать','четырнадцать',\n",
        "              'пятнадцать','шестнадцать','семнадцать','восемнадцать','девятнадцать']\n",
        "RU_TENS    = ['','десять','двадцать','тридцать','сорок','пятьдесят',\n",
        "              'шестьдесят','семьдесят','восемьдесят','девяносто']\n",
        "RU_HUNDS   = ['','сто','двести','триста','четыреста','пятьсот',\n",
        "              'шестьсот','семьсот','восемьсот','девятьсот']\n",
        "\n",
        "\n",
        "def digits_to_words(num: int) -> str:\n",
        "    def _triad(n: int, fem: bool = False) -> list[str]:\n",
        "        h, r  = divmod(n, 100)\n",
        "        t, u  = divmod(r, 10)\n",
        "        words = []\n",
        "        if h: words.append(RU_HUNDS[h])\n",
        "        if t == 1:\n",
        "            words.append(RU_TEENS[u])\n",
        "        else:\n",
        "            if t: words.append(RU_TENS[t])\n",
        "            if u:\n",
        "                words.append((RU_UNITS_F if fem else RU_UNITS_M)[u])\n",
        "        return words\n",
        "    th, rest = divmod(num, 1000)\n",
        "    words = _triad(th, fem=True)\n",
        "    last = th % 100\n",
        "    if 11 <= last <= 14:\n",
        "        words.append('тысяч')\n",
        "    else:\n",
        "        last %= 10\n",
        "        words.append({1:'тысяча', 2:'тысячи', 3:'тысячи', 4:'тысячи'}.get(last, 'тысяч'))\n",
        "    if rest:\n",
        "        words += _triad(rest, fem=False)\n",
        "    return \" \".join(words)\n",
        "\n",
        "def words_to_digits(words):\n",
        "    return inv_normalizer_ru.inverse_normalize(words, verbose=False)"
      ],
      "metadata": {
        "_uuid": "756defa5-b9e1-43c5-b755-7b6f627210d2",
        "_cell_guid": "58b94d02-c574-4efb-b54e-7a2d03dbc314",
        "trusted": true,
        "execution": {
          "iopub.status.busy": "2025-04-20T10:42:48.911690Z",
          "iopub.execute_input": "2025-04-20T10:42:48.912034Z",
          "iopub.status.idle": "2025-04-20T10:45:31.052200Z",
          "shell.execute_reply.started": "2025-04-20T10:42:48.912016Z",
          "shell.execute_reply": "2025-04-20T10:45:31.051392Z"
        },
        "jupyter": {
          "outputs_hidden": false
        },
        "id": "m2qL98Lkiboh",
        "outputId": "e910f76e-0ec2-412d-f6a5-45672d4a95db"
      },
      "outputs": [
        {
          "name": "stderr",
          "text": " NeMo-text-processing :: INFO     :: Creating ClassifyFst grammars. This might take some time...\n NeMo-text-processing :: INFO     :: Creating ClassifyFst grammars. This might take some time...\n",
          "output_type": "stream"
        }
      ],
      "execution_count": null
    },
    {
      "cell_type": "code",
      "source": [
        "class Config:\n",
        "    folder = Path(\"/kaggle/input/asr-numbers-recognition-in-russian/\")\n",
        "\n",
        "    target_samplerate = 16000\n",
        "    n_mels = 80\n",
        "    n_fft = 400\n",
        "    hop_length = 160\n",
        "    max_frames = 1000\n",
        "\n",
        "    hidden = 128\n",
        "    num_layers = 2\n",
        "    dropout = 0.2\n",
        "\n",
        "    batch_size = 32\n",
        "    num_epochs = 10\n",
        "    lr = 1e-3\n",
        "    device = torch.device(\"cuda\" if torch.cuda.is_available() else \"cpu\")\n",
        "\n",
        "cfg = Config()"
      ],
      "metadata": {
        "_uuid": "d27f14d8-e0b5-4d29-83f9-ff3c1647a782",
        "_cell_guid": "2d810e10-16aa-4371-a189-72fc3f72536b",
        "trusted": true,
        "execution": {
          "iopub.status.busy": "2025-04-20T10:45:31.053105Z",
          "iopub.execute_input": "2025-04-20T10:45:31.053322Z",
          "iopub.status.idle": "2025-04-20T10:45:31.122674Z",
          "shell.execute_reply.started": "2025-04-20T10:45:31.053305Z",
          "shell.execute_reply": "2025-04-20T10:45:31.121831Z"
        },
        "jupyter": {
          "outputs_hidden": false
        },
        "id": "djOsncJziboh"
      },
      "outputs": [],
      "execution_count": null
    },
    {
      "cell_type": "markdown",
      "source": [
        "# Load data"
      ],
      "metadata": {
        "_uuid": "db371072-f9e3-4a26-a5f1-f59c7c15ecca",
        "_cell_guid": "3016310c-6788-419d-a569-95c1b61b9a86",
        "trusted": true,
        "collapsed": false,
        "jupyter": {
          "outputs_hidden": false
        },
        "id": "IRkpTttpiboh"
      }
    },
    {
      "cell_type": "code",
      "source": [
        "class RuTokenizer:\n",
        "    def __init__(self):\n",
        "        self.labels = ['<blank>', ' '] + [chr(idx) for idx in range(ord('а'), ord('я') + 1)]\n",
        "        self.token2idx = {t: i for i, t in enumerate(self.labels)}\n",
        "        self.idx2token = {i: t for t, i in self.token2idx.items()}\n",
        "\n",
        "    def encode(self, text):\n",
        "        return [self.token2idx[c] for c in text.lower()]\n",
        "\n",
        "    def decode(self, logits: torch.Tensor, greedy=True) -> str:\n",
        "        if greedy:\n",
        "            logits = torch.argmax(logits, dim=-1).tolist()\n",
        "            logits = [idx for idx, _ in groupby(logits) if idx != 0]\n",
        "        return \"\".join(self.idx2token[t] for t in logits)\n",
        "\n",
        "\n",
        "tokenizer = RuTokenizer()"
      ],
      "metadata": {
        "_uuid": "c8cfcc73-baaf-4dcd-b332-d7b77ba40acb",
        "_cell_guid": "407e9bb8-65a5-40c3-9f47-0e5b1d945693",
        "trusted": true,
        "execution": {
          "iopub.status.busy": "2025-04-20T10:45:31.123588Z",
          "iopub.execute_input": "2025-04-20T10:45:31.123860Z",
          "iopub.status.idle": "2025-04-20T10:45:31.142143Z",
          "shell.execute_reply.started": "2025-04-20T10:45:31.123841Z",
          "shell.execute_reply": "2025-04-20T10:45:31.141458Z"
        },
        "jupyter": {
          "outputs_hidden": false
        },
        "id": "bZA7pzbpiboi"
      },
      "outputs": [],
      "execution_count": null
    },
    {
      "cell_type": "code",
      "source": [
        "class NumbersDataset(Dataset):\n",
        "    def __init__(self, folder, subset, tokenizer, config, augment=False):\n",
        "        self.df = pd.read_csv(folder / f\"{subset}.csv\")\n",
        "        self.texts = [digits_to_words(n) for n in self.df.transcription.tolist()]\n",
        "        self.folder = folder\n",
        "        self.tokenizer = tokenizer\n",
        "        self.config = config\n",
        "        self.augment = augment\n",
        "\n",
        "    def __len__(self):\n",
        "        return len(self.df)\n",
        "\n",
        "    def __getitem__(self, idx):\n",
        "        row = self.df.iloc[idx]\n",
        "        wav_path = self.folder / row.filename\n",
        "        waveform, sr = torchaudio.load(wav_path)\n",
        "\n",
        "        if sr != self.config.target_samplerate:\n",
        "            waveform = torchaudio.transforms.Resample(sr, self.config.target_samplerate)(waveform)\n",
        "\n",
        "        waveform = waveform.mean(dim=0, keepdim=True)\n",
        "\n",
        "        if self.augment:\n",
        "            waveform += 0.003 * torch.randn_like(waveform)\n",
        "            waveform = Vol(random.uniform(-6, 6), gain_type='db')(waveform)\n",
        "            shift = int(random.uniform(-0.1, 0.1) * waveform.size(1))\n",
        "            waveform = torch.roll(waveform, shift, dims=-1)\n",
        "\n",
        "        melspec = torchaudio.transforms.MelSpectrogram(\n",
        "            sample_rate=self.config.target_samplerate,\n",
        "            n_mels=self.config.n_mels,\n",
        "            n_fft = self.config.n_fft,\n",
        "            hop_length = self.config.hop_length\n",
        "        )(waveform)\n",
        "        melspec = torchaudio.transforms.AmplitudeToDB()(melspec)\n",
        "        melspec = melspec[..., :self.config.max_frames]\n",
        "\n",
        "        if self.augment:\n",
        "            melspec = FrequencyMasking(freq_mask_param=15)(melspec)\n",
        "            melspec = TimeMasking(time_mask_param=35)(melspec)\n",
        "\n",
        "        melspec = melspec.squeeze(0).transpose(0, 1)   # (T, M)\n",
        "        target = torch.tensor(self.tokenizer.encode(self.texts[idx]), dtype=torch.long)\n",
        "        return melspec, target, row.spk_id\n",
        "\n",
        "\n",
        "def collate_fn(batch):\n",
        "    X, y, ids   = zip(*batch)\n",
        "    X_len = torch.tensor([e.size(0) for e in X], dtype=torch.long)\n",
        "    X_pad = pad_sequence(X, batch_first=True)\n",
        "\n",
        "    y_len = torch.tensor([e.size(0) for e in y], dtype=torch.long)\n",
        "    y = torch.cat(y)\n",
        "    return X_pad, X_len, y, y_len, ids"
      ],
      "metadata": {
        "_uuid": "d93d1b5b-aec7-4399-a7c8-f093a5fbae6c",
        "_cell_guid": "412fd054-66a1-40b8-bb3f-2221a269f2c4",
        "trusted": true,
        "execution": {
          "iopub.status.busy": "2025-04-20T10:45:31.142812Z",
          "iopub.execute_input": "2025-04-20T10:45:31.142982Z",
          "iopub.status.idle": "2025-04-20T10:45:31.162427Z",
          "shell.execute_reply.started": "2025-04-20T10:45:31.142968Z",
          "shell.execute_reply": "2025-04-20T10:45:31.161747Z"
        },
        "jupyter": {
          "outputs_hidden": false
        },
        "id": "77vTQDJViboi"
      },
      "outputs": [],
      "execution_count": null
    },
    {
      "cell_type": "code",
      "source": [
        "train_ds = NumbersDataset(cfg.folder, 'train', tokenizer, cfg, augment=True)\n",
        "val_ds = NumbersDataset(cfg.folder, 'dev', tokenizer, cfg, augment=False)\n",
        "\n",
        "train_loader = DataLoader(train_ds, batch_size=cfg.batch_size, shuffle=True, collate_fn=collate_fn)\n",
        "val_loader = DataLoader(val_ds, batch_size=cfg.batch_size, shuffle=False, collate_fn=collate_fn)\n",
        "\n",
        "print(f\"Train size: {len(train_loader)}, Val size: {len(val_loader)}\")"
      ],
      "metadata": {
        "_uuid": "5f7811a6-ecb6-4204-848e-20d740053819",
        "_cell_guid": "e7f43468-f7f7-43ef-827f-68749b978897",
        "trusted": true,
        "execution": {
          "iopub.status.busy": "2025-04-20T10:45:31.163043Z",
          "iopub.execute_input": "2025-04-20T10:45:31.163205Z",
          "iopub.status.idle": "2025-04-20T10:45:31.246016Z",
          "shell.execute_reply.started": "2025-04-20T10:45:31.163192Z",
          "shell.execute_reply": "2025-04-20T10:45:31.245312Z"
        },
        "jupyter": {
          "outputs_hidden": false
        },
        "id": "Rgqb16y3iboj",
        "outputId": "82b79394-1ac8-47ae-dae9-4086452c2151"
      },
      "outputs": [
        {
          "name": "stdout",
          "text": "Train size: 393, Val size: 71\n",
          "output_type": "stream"
        }
      ],
      "execution_count": null
    },
    {
      "cell_type": "markdown",
      "source": [
        "# Init model"
      ],
      "metadata": {
        "_uuid": "348df940-e85f-41a7-9805-c70144a2feab",
        "_cell_guid": "b5fecd91-fd0f-42c4-853f-4f77a77b159a",
        "trusted": true,
        "collapsed": false,
        "jupyter": {
          "outputs_hidden": false
        },
        "id": "JLWK6ki9iboj"
      }
    },
    {
      "cell_type": "code",
      "source": [
        "class CRNN(nn.Module):\n",
        "    def __init__(self, cfg: Config, vocab_size: int):\n",
        "        super().__init__()\n",
        "        self.conv = nn.Sequential(\n",
        "            nn.Conv2d(1, 64, (3, 3), padding=(1, 1)),\n",
        "            nn.BatchNorm2d(64),\n",
        "            nn.ReLU(),\n",
        "            nn.Conv2d(64, 64, (3, 3), padding=(1, 1)),\n",
        "            nn.BatchNorm2d(64),\n",
        "            nn.ReLU(),\n",
        "            nn.MaxPool2d((1, 2)),\n",
        "            nn.Dropout(cfg.dropout),\n",
        "\n",
        "            nn.Conv2d(64, 128, (3, 3), padding=(1, 1)),\n",
        "            nn.BatchNorm2d(128), nn.ReLU(),\n",
        "            nn.MaxPool2d((1, 2)),\n",
        "            nn.Dropout(cfg.dropout),\n",
        "        )\n",
        "        rnn_in = (cfg.n_mels // 4) * 128\n",
        "        self.rnn = nn.LSTM(rnn_in, cfg.hidden, num_layers=cfg.num_layers,\n",
        "                           bidirectional=True, batch_first=True, dropout=cfg.dropout)\n",
        "        self.fc = nn.Linear(cfg.hidden * 2, vocab_size)\n",
        "\n",
        "    def forward(self, x):\n",
        "        x = x.unsqueeze(1)\n",
        "        x = self.conv(x)\n",
        "        b, c, t, m = x.shape\n",
        "\n",
        "        x = x.permute(0, 2, 3, 1).reshape(b, t, m * c)\n",
        "        x, _ = self.rnn(x)\n",
        "        return self.fc(x)\n",
        "\n",
        "\n",
        "model = CRNN(cfg, vocab_size=len(tokenizer.labels)).to(cfg.device)"
      ],
      "metadata": {
        "_uuid": "c1bdb95c-e71c-4a8b-972c-cc1816508119",
        "_cell_guid": "34505724-16d0-4a0f-a5cf-1227b15a3051",
        "trusted": true,
        "execution": {
          "iopub.status.busy": "2025-04-20T10:45:31.246846Z",
          "iopub.execute_input": "2025-04-20T10:45:31.247117Z",
          "iopub.status.idle": "2025-04-20T10:45:31.545121Z",
          "shell.execute_reply.started": "2025-04-20T10:45:31.247085Z",
          "shell.execute_reply": "2025-04-20T10:45:31.544469Z"
        },
        "jupyter": {
          "outputs_hidden": false
        },
        "id": "QcF50xRgiboj"
      },
      "outputs": [],
      "execution_count": null
    },
    {
      "cell_type": "code",
      "source": [
        "print(f\"Model params: {sum(p.numel() for p in model.parameters() if p.requires_grad)/1e6:.2f} M\")"
      ],
      "metadata": {
        "_uuid": "f93176fe-9874-40db-ac6f-090407359d81",
        "_cell_guid": "cec1cecb-1125-4738-8084-619899550115",
        "trusted": true,
        "execution": {
          "iopub.status.busy": "2025-04-20T10:45:31.546853Z",
          "iopub.execute_input": "2025-04-20T10:45:31.547055Z",
          "iopub.status.idle": "2025-04-20T10:45:31.551231Z",
          "shell.execute_reply.started": "2025-04-20T10:45:31.547039Z",
          "shell.execute_reply": "2025-04-20T10:45:31.550661Z"
        },
        "jupyter": {
          "outputs_hidden": false
        },
        "id": "gLdo2up1ibok",
        "outputId": "a5c03531-eee6-41eb-ca72-7d2363a0abe6"
      },
      "outputs": [
        {
          "name": "stdout",
          "text": "Model params: 3.27 M\n",
          "output_type": "stream"
        }
      ],
      "execution_count": null
    },
    {
      "cell_type": "code",
      "source": [
        "ctc_loss = nn.CTCLoss(blank=0, reduction='mean', zero_infinity=True)\n",
        "optimizer = optim.AdamW(model.parameters(), lr=cfg.lr, weight_decay=1e-5)\n",
        "scheduler = optim.lr_scheduler.OneCycleLR(optimizer, max_lr=cfg.lr, epochs=cfg.num_epochs,\n",
        "                                          steps_per_epoch=len(train_loader))"
      ],
      "metadata": {
        "_uuid": "e6d92325-aa8f-4ca1-976c-94e6c401969e",
        "_cell_guid": "3d2783cd-0c80-444d-af76-db26b627b39e",
        "trusted": true,
        "execution": {
          "iopub.status.busy": "2025-04-20T10:45:31.551967Z",
          "iopub.execute_input": "2025-04-20T10:45:31.552205Z",
          "iopub.status.idle": "2025-04-20T10:45:31.566730Z",
          "shell.execute_reply.started": "2025-04-20T10:45:31.552183Z",
          "shell.execute_reply": "2025-04-20T10:45:31.566211Z"
        },
        "jupyter": {
          "outputs_hidden": false
        },
        "id": "AYx3M7zfibok"
      },
      "outputs": [],
      "execution_count": null
    },
    {
      "cell_type": "markdown",
      "source": [
        "# Train model"
      ],
      "metadata": {
        "_uuid": "a8bf5997-9c5e-43b7-8622-99413183cede",
        "_cell_guid": "6638d659-7030-49cd-97b6-98fd1a36a4e8",
        "trusted": true,
        "collapsed": false,
        "jupyter": {
          "outputs_hidden": false
        },
        "id": "RtWuVNLZibok"
      }
    },
    {
      "cell_type": "code",
      "source": [
        "cer = CharErrorRate()"
      ],
      "metadata": {
        "_uuid": "6c03a0a5-cd0d-4159-8289-c60d6a80d3e8",
        "_cell_guid": "f6ad57a0-4e93-445d-af6c-e5a7420aca97",
        "trusted": true,
        "jupyter": {
          "outputs_hidden": false
        },
        "execution": {
          "iopub.status.busy": "2025-04-20T10:45:31.567395Z",
          "iopub.execute_input": "2025-04-20T10:45:31.567665Z",
          "iopub.status.idle": "2025-04-20T10:45:31.585102Z",
          "shell.execute_reply.started": "2025-04-20T10:45:31.567642Z",
          "shell.execute_reply": "2025-04-20T10:45:31.584597Z"
        },
        "id": "gtbXXn4oibok"
      },
      "outputs": [],
      "execution_count": null
    },
    {
      "cell_type": "code",
      "source": [
        "def train_one_epoch():\n",
        "    model.train()\n",
        "    total_loss = 0\n",
        "    for X, X_len, y, y_len, ids in tqdm(train_loader):\n",
        "        X, X_len, y = X.to(cfg.device), X_len.to(cfg.device), y.to(cfg.device)\n",
        "        optimizer.zero_grad()\n",
        "        X_ = model(X)\n",
        "        loss = ctc_loss(X_.log_softmax(-1).transpose(0, 1), y, X_len, y_len)\n",
        "        loss.backward()\n",
        "        nn.utils.clip_grad_norm_(model.parameters(), 5.0)\n",
        "        optimizer.step()\n",
        "        scheduler.step()\n",
        "        total_loss += loss.item()\n",
        "    return total_loss / len(train_loader)\n",
        "\n",
        "\n",
        "def eval_one_epoch():\n",
        "    model.eval()\n",
        "    spk2preds = dict()\n",
        "    spk2gts = dict()\n",
        "\n",
        "    with torch.no_grad():\n",
        "        for X, X_len, y, y_len, ids in tqdm(val_loader):\n",
        "            X = X.to(cfg.device)\n",
        "            logits = model(X).cpu()\n",
        "\n",
        "            targets_split = torch.split(y, y_len.tolist())\n",
        "            for i, (logit, tgt, spk) in enumerate(zip(logits, targets_split, ids)):\n",
        "                pred_str = tokenizer.decode(logit[:X_len[i]])\n",
        "                pred_str = words_to_digits(pred_str)\n",
        "                true_str = tokenizer.decode(tgt.tolist(), greedy=False)\n",
        "                if spk not in spk2preds:\n",
        "                    spk2preds[spk] = [pred_str]\n",
        "                    spk2gts[spk] = [true_str]\n",
        "                else:\n",
        "                    spk2preds[spk].append(pred_str)\n",
        "                    spk2gts[spk].append(true_str)\n",
        "\n",
        "    per_spk = {s: cer(spk2preds[s], spk2gts[s]).item()\n",
        "               for s in spk2preds}\n",
        "\n",
        "    macro_cer = sum(per_spk.values()) / len(per_spk)\n",
        "    return macro_cer, per_spk"
      ],
      "metadata": {
        "_uuid": "03aa70c6-3363-4236-923f-3f344b5505f2",
        "_cell_guid": "40e7cd84-8867-4f7f-b670-1a4294dbc4af",
        "trusted": true,
        "jupyter": {
          "outputs_hidden": false
        },
        "execution": {
          "iopub.status.busy": "2025-04-20T11:00:01.431875Z",
          "iopub.execute_input": "2025-04-20T11:00:01.432149Z",
          "iopub.status.idle": "2025-04-20T11:00:01.440800Z",
          "shell.execute_reply.started": "2025-04-20T11:00:01.432128Z",
          "shell.execute_reply": "2025-04-20T11:00:01.440064Z"
        },
        "id": "seDyTVe1ibok"
      },
      "outputs": [],
      "execution_count": null
    },
    {
      "cell_type": "code",
      "source": [
        "best_cer = 1.0\n",
        "for epoch in range(1, cfg.num_epochs + 1):\n",
        "    train_loss = train_one_epoch()\n",
        "    val_cer, per_spk = eval_one_epoch()\n",
        "\n",
        "    worst = sorted(per_spk.items(), key=lambda x: x[1], reverse=True)[:5]\n",
        "    best  = sorted(per_spk.items(), key=lambda x: x[1])[:5]\n",
        "    if val_cer < best_cer:\n",
        "        best_cer, best_state = val_cer, model.state_dict()\n",
        "\n",
        "    print(f\"\\nEpoch {epoch} — val CER {val_cer*100:.2f}% (best {best_cer*100:.2f}%)\")\n",
        "    print(\"Worst 5 speakers:\", \", \".join(f\"{s}:{e*100:.1f}%\" for s,e in worst))\n",
        "    print(\"Best  5 speakers:\", \", \".join(f\"{s}:{e*100:.1f}%\" for s,e in best))"
      ],
      "metadata": {
        "_uuid": "a9a7de00-ba0d-48d2-b81f-a0f545f0bed5",
        "_cell_guid": "8eeae000-f99e-4d38-bd11-5b2105b95fe3",
        "trusted": true,
        "execution": {
          "iopub.status.busy": "2025-04-20T11:00:04.964602Z",
          "iopub.execute_input": "2025-04-20T11:00:04.965319Z",
          "iopub.status.idle": "2025-04-20T12:00:44.368154Z",
          "shell.execute_reply.started": "2025-04-20T11:00:04.965295Z",
          "shell.execute_reply": "2025-04-20T12:00:44.366898Z"
        },
        "jupyter": {
          "outputs_hidden": false
        },
        "id": "CPGCb1Goibok",
        "outputId": "b2dd7bae-6347-4837-a2d4-2df8bbf213d4"
      },
      "outputs": [
        {
          "name": "stderr",
          "text": "100%|██████████| 393/393 [05:07<00:00,  1.28it/s]\n100%|██████████| 71/71 [01:59<00:00,  1.68s/it]\n",
          "output_type": "stream"
        },
        {
          "name": "stdout",
          "text": "\nEpoch 1 — val CER 57.29% (best 57.29%)\nWorst 5 speakers: spk_K:66.0%, spk_A:61.0%, spk_C:59.4%, spk_B:57.3%, spk_F:57.2%\nBest  5 speakers: spk_J:51.5%, spk_H:53.1%, spk_I:54.9%, spk_D:56.0%, spk_E:56.5%\n",
          "output_type": "stream"
        },
        {
          "name": "stderr",
          "text": "100%|██████████| 393/393 [04:53<00:00,  1.34it/s]\n100%|██████████| 71/71 [01:48<00:00,  1.53s/it]\n",
          "output_type": "stream"
        },
        {
          "name": "stdout",
          "text": "\nEpoch 2 — val CER 66.74% (best 57.29%)\nWorst 5 speakers: spk_B:73.0%, spk_E:71.2%, spk_K:70.6%, spk_D:69.2%, spk_H:66.8%\nBest  5 speakers: spk_I:54.7%, spk_A:64.7%, spk_J:65.5%, spk_F:65.6%, spk_C:66.0%\n",
          "output_type": "stream"
        },
        {
          "name": "stderr",
          "text": "100%|██████████| 393/393 [04:50<00:00,  1.35it/s]\n100%|██████████| 71/71 [02:05<00:00,  1.77s/it]\n",
          "output_type": "stream"
        },
        {
          "name": "stdout",
          "text": "\nEpoch 3 — val CER 68.50% (best 57.29%)\nWorst 5 speakers: spk_B:76.2%, spk_E:75.0%, spk_D:74.8%, spk_C:70.8%, spk_J:70.1%\nBest  5 speakers: spk_I:55.9%, spk_K:59.7%, spk_A:64.8%, spk_F:68.3%, spk_H:69.4%\n",
          "output_type": "stream"
        },
        {
          "name": "stderr",
          "text": "100%|██████████| 393/393 [04:50<00:00,  1.35it/s]\n100%|██████████| 71/71 [02:07<00:00,  1.80s/it]\n",
          "output_type": "stream"
        },
        {
          "name": "stdout",
          "text": "\nEpoch 4 — val CER 67.73% (best 57.29%)\nWorst 5 speakers: spk_B:76.7%, spk_E:76.6%, spk_D:73.1%, spk_J:68.8%, spk_C:67.5%\nBest  5 speakers: spk_I:54.6%, spk_K:62.3%, spk_H:65.4%, spk_A:65.9%, spk_F:66.5%\n",
          "output_type": "stream"
        },
        {
          "name": "stderr",
          "text": "100%|██████████| 393/393 [04:51<00:00,  1.35it/s]\n100%|██████████| 71/71 [02:06<00:00,  1.78s/it]\n",
          "output_type": "stream"
        },
        {
          "name": "stdout",
          "text": "\nEpoch 5 — val CER 69.52% (best 57.29%)\nWorst 5 speakers: spk_B:79.8%, spk_E:75.8%, spk_D:73.1%, spk_J:73.0%, spk_C:69.8%\nBest  5 speakers: spk_I:57.2%, spk_K:63.6%, spk_A:65.1%, spk_H:68.7%, spk_F:69.2%\n",
          "output_type": "stream"
        },
        {
          "name": "stderr",
          "text": "100%|██████████| 393/393 [04:50<00:00,  1.35it/s]\n100%|██████████| 71/71 [02:10<00:00,  1.83s/it]\n",
          "output_type": "stream"
        },
        {
          "name": "stdout",
          "text": "\nEpoch 6 — val CER 71.13% (best 57.29%)\nWorst 5 speakers: spk_E:78.5%, spk_B:78.4%, spk_D:75.9%, spk_J:73.9%, spk_F:71.8%\nBest  5 speakers: spk_I:58.4%, spk_K:66.5%, spk_H:68.5%, spk_A:68.7%, spk_C:70.6%\n",
          "output_type": "stream"
        },
        {
          "name": "stderr",
          "text": "100%|██████████| 393/393 [04:49<00:00,  1.36it/s]\n100%|██████████| 71/71 [02:11<00:00,  1.86s/it]\n",
          "output_type": "stream"
        },
        {
          "name": "stdout",
          "text": "\nEpoch 7 — val CER 72.83% (best 57.29%)\nWorst 5 speakers: spk_E:81.9%, spk_B:80.0%, spk_D:76.9%, spk_J:74.6%, spk_F:73.0%\nBest  5 speakers: spk_I:63.1%, spk_A:67.9%, spk_K:68.2%, spk_H:70.9%, spk_C:72.0%\n",
          "output_type": "stream"
        },
        {
          "name": "stderr",
          "text": "100%|██████████| 393/393 [04:50<00:00,  1.35it/s]\n100%|██████████| 71/71 [02:13<00:00,  1.89s/it]\n",
          "output_type": "stream"
        },
        {
          "name": "stdout",
          "text": "\nEpoch 8 — val CER 70.80% (best 57.29%)\nWorst 5 speakers: spk_E:79.5%, spk_B:78.5%, spk_D:74.4%, spk_J:74.0%, spk_F:70.9%\nBest  5 speakers: spk_I:60.0%, spk_A:66.1%, spk_K:66.3%, spk_C:68.6%, spk_H:69.7%\n",
          "output_type": "stream"
        },
        {
          "name": "stderr",
          "text": " 98%|█████████▊| 384/393 [04:45<00:06,  1.34it/s]\n",
          "output_type": "stream"
        }
      ],
      "execution_count": null
    },
    {
      "cell_type": "markdown",
      "source": [
        "# Create submission"
      ],
      "metadata": {
        "_uuid": "cdde96b9-7cb4-436b-b5d9-52e9930a730c",
        "_cell_guid": "b9b69634-5f2e-44a3-9ac9-af2ffbabdb28",
        "trusted": true,
        "collapsed": false,
        "jupyter": {
          "outputs_hidden": false
        },
        "id": "Xe06-nlzibol"
      }
    },
    {
      "cell_type": "code",
      "source": [
        "NUM_WORDS = [\n",
        "    \"ноль\",\"один\",\"одна\",\"два\",\"две\",\"три\",\"четыре\",\"пять\",\"шесть\",\"семь\",\"восемь\",\n",
        "    \"девять\",\"десять\",\"одиннадцать\",\"двенадцать\",\"тринадцать\",\"четырнадцать\",\n",
        "    \"пятнадцать\",\"шестнадцать\",\"семнадцать\",\"восемнадцать\",\"девятнадцать\",\n",
        "    \"двадцать\",\"тридцать\",\"сорок\",\"пятьдесят\",\"шестьдесят\",\"семьдесят\",\n",
        "    \"восемьдесят\",\"девяносто\",\"сто\",\"двести\",\"триста\",\"четыреста\",\"пятьсот\",\n",
        "    \"шестьсот\",\"семьсот\",\"восемьсот\",\"девятьсот\",\"тысяча\",\"тысячи\",\"тысяч\",\n",
        "]\n",
        "\n",
        "def fuzzy_fix(word, threshold=80):\n",
        "    best, score, _ = process.extractOne(word, NUM_WORDS)\n",
        "    return best if score >= threshold else word\n",
        "\n",
        "def split_words(word):\n",
        "    parts = []\n",
        "    while word:\n",
        "        match = max((w for w in NUM_WORDS if word.startswith(w)), key=len, default=None)\n",
        "        if match:\n",
        "            parts.append(match)\n",
        "            word = word[len(match):]\n",
        "        else:\n",
        "            parts.append(word)\n",
        "            break\n",
        "    return parts\n",
        "\n",
        "def preclean(text):\n",
        "    tokens = []\n",
        "    for token in text.lower().split():\n",
        "        for part in split_stuck(token):\n",
        "            tokens.append(fuzzy_fix(part))\n",
        "\n",
        "    return \" \".join(tokens)"
      ],
      "metadata": {
        "id": "QB60I3lHilgK"
      },
      "execution_count": null,
      "outputs": []
    },
    {
      "cell_type": "code",
      "source": [
        "class Predictor:\n",
        "    def __init__(self, best_state):\n",
        "        self.cfg = cfg\n",
        "        self.tokenizer = RuTokenizer()\n",
        "        self.model = CRNN(cfg, len(self.tokenizer.labels)).to(cfg.device)\n",
        "        self.model.load_state_dict(best_state)\n",
        "        self.model.eval()\n",
        "\n",
        "    def transcribe(self, wav_path: Path) -> str:\n",
        "        wav, sr = torchaudio.load(wav_path)\n",
        "        if sr != self.cfg.target_samplerate:\n",
        "            wav = torchaudio.transforms.Resample(sr, self.cfg.target_samplerate)(wav)\n",
        "        wav = wav.mean(dim=0, keepdim=True)\n",
        "        melspec = torchaudio.transforms.MelSpectrogram(\n",
        "            sample_rate=self.cfg.target_samplerate,\n",
        "            n_mels=self.cfg.n_mels,\n",
        "            n_fft=self.cfg.n_fft,\n",
        "            hop_length=self.cfg.hop_length,\n",
        "        )(wav)\n",
        "        melspec = torchaudio.transforms.AmplitudeToDB()(melspec)\n",
        "        melspec = melspec.squeeze(0).transpose(0, 1).unsqueeze(0).to(cfg.device)\n",
        "        with torch.no_grad():\n",
        "            X = self.model(melspec)\n",
        "        pred = self.tokenizer.decode(X[0])\n",
        "        pred = preclean(pred)\n",
        "        pred = words_to_digits(pred)\n",
        "        pred = ''.join([c for c in pred if c.isdigit()])\n",
        "        return pred if len(pred) != 0 else '0'\n",
        "\n",
        "\n",
        "predictor = Predictor(best_state)"
      ],
      "metadata": {
        "_uuid": "ccd9f150-5bf0-4f30-9fe8-292dc3b347e6",
        "_cell_guid": "c666bb91-224a-4f26-8ed8-7972ab52875e",
        "trusted": true,
        "jupyter": {
          "outputs_hidden": false
        },
        "execution": {
          "iopub.status.busy": "2025-04-20T12:01:52.609429Z",
          "iopub.execute_input": "2025-04-20T12:01:52.609736Z",
          "iopub.status.idle": "2025-04-20T12:01:52.646842Z",
          "shell.execute_reply.started": "2025-04-20T12:01:52.609714Z",
          "shell.execute_reply": "2025-04-20T12:01:52.646119Z"
        },
        "id": "gKUvGp4Wibol"
      },
      "outputs": [],
      "execution_count": null
    },
    {
      "cell_type": "code",
      "source": [
        "test_paths = [fn for fn in os.listdir(cfg.folder / 'test')]\n",
        "records = []\n",
        "for fn in tqdm(test_paths):\n",
        "    pred_txt = predictor.transcribe(cfg.folder / 'test' / fn)\n",
        "    records.append({'filename': f\"test/{fn}\", 'transcription': pred_txt})\n",
        "\n",
        "submission = pd.DataFrame(records)\n",
        "submission.to_csv('submission.csv', index=False)"
      ],
      "metadata": {
        "_uuid": "e0a27bfd-b44f-4617-95ee-8e03bdae9524",
        "_cell_guid": "4bfd7fdb-e66f-41dc-a34b-3c7ba3a5be95",
        "trusted": true,
        "jupyter": {
          "outputs_hidden": false
        },
        "execution": {
          "iopub.status.busy": "2025-04-20T12:02:24.268465Z",
          "iopub.execute_input": "2025-04-20T12:02:24.268996Z",
          "iopub.status.idle": "2025-04-20T12:05:43.494503Z",
          "shell.execute_reply.started": "2025-04-20T12:02:24.268972Z",
          "shell.execute_reply": "2025-04-20T12:05:43.493733Z"
        },
        "id": "tVA_hl-Bibol",
        "outputId": "c8e49c92-5875-4c0e-bec0-c2bef945b7be"
      },
      "outputs": [
        {
          "name": "stderr",
          "text": "100%|██████████| 2582/2582 [03:19<00:00, 12.96it/s]\n",
          "output_type": "stream"
        }
      ],
      "execution_count": null
    },
    {
      "cell_type": "code",
      "source": [],
      "metadata": {
        "_uuid": "f52ae6bb-07e3-4e33-87ee-78c7c580d5be",
        "_cell_guid": "fe432cd8-f9e8-4328-9204-2856aa1fd1b5",
        "trusted": true,
        "jupyter": {
          "outputs_hidden": false
        },
        "id": "6cTxTGliibol"
      },
      "outputs": [],
      "execution_count": null
    }
  ]
}